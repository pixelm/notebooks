{
 "cells": [
  {
   "cell_type": "markdown",
   "metadata": {},
   "source": [
    "### 1. Using big query and google storage for data. \n",
    "### 2. Scikit for modelling\n",
    "### 3. And matplot lib for plotting! \n",
    "\n",
    "\n",
    "### CLI for big query\n",
    "Add  or import tables on Google Developer Console Storage. If you have used AWS, it will look familiar to you to create buckets. basically each bucket is like a file system where your project files live. \n",
    "\n",
    "https://console.developers.google.com/apis/credentials?project=????\n",
    "\n",
    "Once you have added your files to the buckets you will have to map those files to big query tables. Create external tables and map the bucket tables with the correct schema. \n",
    "\n",
    "Then you will have to enable the API through the api manager by add credentials --> service account --> download p12 or json key. You will need the key to setup the bigquery environment on your machine in order to run jobs. \n",
    "\n",
    "See link here to setup the environment. \n",
    "pip install bigquery\n",
    "\n",
    "http://skipperkongen.dk/2013/01/25/toying-with-google-bigquery-python-cli/\n",
    "\n",
    "https://github.com/tylertreat/BigQuery-Python\n",
    "\n",
    "connect to plotly by generating an api call \n",
    "\n",
    "https://plot.ly/python/getting-started/\n",
    "\n",
    "python -c \"import plotly; plotly.tools.set_credentials_file(username='name', api_key='apikey')\"\n",
    "\n",
    "\n",
    "### The Hacker News data. \n",
    "I have taken a keen interest in journalism, mainly how journalism is distributed and monetized for digital publishers. \n",
    "\n",
    "Hacker News is the source of best reads I have found. No seriously, I have never been disappointed by hacker news. If I could pay for HN, I would. It is still a small community (in reddit terms). I want to study what type of journalism is being distributed through hacker news. Luckily, they have made their data available on big query. \n",
    "\n",
    "The goal of this post is to discuss how to deal with skewed dataset for hierarchical clustering. \n",
    "\n",
    "Let's get the data first.\n",
    "This table is saved as 'test.hn_sampled1'. \n"
   ]
  },
  {
   "cell_type": "code",
   "execution_count": null,
   "metadata": {
    "collapsed": true
   },
   "outputs": [],
   "source": [
    "## here is the query to get the data from big query. The data is publicly available. \n",
    "%%sql\n",
    "SELECT\n",
    "  REGEXP_EXTRACT((REGEXP_EXTRACT(stories.url,'http://([^/]+)/')),'([^\\\\.]+\\\\.[^\\\\.]+(?:\\\\.[a-zA-Z].)?)$') AS stories_url_domain,\n",
    "  COUNT(stories.id) AS stories_count,\n",
    "  COUNT(stories.deleted) as stories_deleted, \n",
    "  count(stories.dead) as stories_dead, \n",
    "  sum(descendants) as stories_descandants\n",
    "FROM\n",
    "  [fh-bigquery:hackernews.full_201510] AS stories\n",
    "Where URL != 'null'\n",
    "GROUP by stories_url_domain\n",
    "ORDER BY\n",
    "  stories_count DESC\n"
   ]
  },
  {
   "cell_type": "code",
   "execution_count": 1,
   "metadata": {
    "collapsed": true
   },
   "outputs": [],
   "source": [
    "from bigquery import get_client\n",
    "from pandas import DataFrame as df\n",
    "import numpy as np\n",
    "import pandas as pd"
   ]
  },
  {
   "cell_type": "code",
   "execution_count": 2,
   "metadata": {
    "collapsed": true
   },
   "outputs": [],
   "source": [
    "project_id = 'project_id'\n",
    "SERVICE_ACCOUNT = 'service_account'\n",
    "\n",
    "\n",
    "key = 'bqclientkey.p12'\n",
    "client = get_client(project_id, service_account=SERVICE_ACCOUNT,\n",
    "                    private_key_file=key, readonly=True)"
   ]
  },
  {
   "cell_type": "code",
   "execution_count": 3,
   "metadata": {
    "collapsed": true
   },
   "outputs": [],
   "source": [
    "hn_sampled1 = 'test.hn_sampled1'"
   ]
  },
  {
   "cell_type": "code",
   "execution_count": 7,
   "metadata": {
    "collapsed": false
   },
   "outputs": [
    {
     "name": "stdout",
     "output_type": "stream",
     "text": [
      "   stories_count  stories_dead  stories_descandants stories_url_domain\n",
      "0         328671         53706              1741015               None\n",
      "1          41722         17138               124154       blogspot.com\n",
      "2          30923          1151               189618     techcrunch.com\n",
      "3          28538          1109               224359        nytimes.com\n",
      "4          17866          4982                11316        youtube.com\n"
     ]
    }
   ],
   "source": [
    "job_id, _results = client.query('select * from test.hn_sampled1')\n",
    "job_id = str(job_id)\n",
    "hn_sampled1_df = df(client.get_query_rows(job_id=job_id))\n",
    "hn_sampled1_df = hn_sampled1_df.drop('stories_deleted', 1)\n",
    "print hn_sampled1_df.head()"
   ]
  },
  {
   "cell_type": "markdown",
   "metadata": {},
   "source": [
    "My goal is to use the above feature set to cluster the type of news that's being distributed. The hypothesis is that the news will get clustered by main stream news sources (nytimes, wsj), blogs and mid size publishers (tech crunch, engadget), small scale publishers and then all others. Let's see if we can get our algorithm to create these segments successfully using K-means."
   ]
  },
  {
   "cell_type": "code",
   "execution_count": 8,
   "metadata": {
    "collapsed": false
   },
   "outputs": [
    {
     "name": "stdout",
     "output_type": "stream",
     "text": [
      "Index([u'stories_count', u'stories_dead', u'stories_descandants'], dtype='object')\n"
     ]
    }
   ],
   "source": [
    "# First, let's clean up the data \n",
    "matrix = hn_sampled1_df.set_index('stories_url_domain')\n",
    "\n",
    "\n",
    "matrix = matrix.fillna(0).reset_index()\n",
    "x_cols = matrix.columns[1:]\n",
    "print x_cols"
   ]
  },
  {
   "cell_type": "code",
   "execution_count": 12,
   "metadata": {
    "collapsed": true
   },
   "outputs": [],
   "source": [
    "from sklearn.cluster import KMeans\n",
    "from sklearn.preprocessing import scale\n",
    "from scipy.stats import skew, boxcox"
   ]
  },
  {
   "cell_type": "code",
   "execution_count": 19,
   "metadata": {
    "collapsed": false
   },
   "outputs": [
    {
     "name": "stdout",
     "output_type": "stream",
     "text": [
      "stories_count: [ 397.78432212]\n",
      "stories_dead: [ 366.71557704]\n",
      "stories_descandants: [ 398.15175572]\n"
     ]
    }
   ],
   "source": [
    "# lets check whether the data is normally distributed. \n",
    "print 'stories_count:', skew(matrix[['stories_count']]) \n",
    "print 'stories_dead:', skew(matrix[['stories_dead']]) \n",
    "print 'stories_descandants:', skew(matrix[['stories_descandants']]) \n",
    "\n",
    "#should be about 0 for evenly distrubted dataset. \n",
    "#>0 means ther is more weight on the left tail of the distributon."
   ]
  },
  {
   "cell_type": "code",
   "execution_count": 22,
   "metadata": {
    "collapsed": false
   },
   "outputs": [
    {
     "name": "stdout",
     "output_type": "stream",
     "text": [
      "0.686084056969\n"
     ]
    }
   ],
   "source": [
    "# We can just transform the variables using square root, box cox, or logarithm. \n",
    "# You want to be sure you handle all of your variables in the same way in order to avoid introducing bias.\n",
    "normalized_vars = scale(boxcox(matrix[x_cols]+1)[0])\n",
    "\n",
    "print skew(matrix[x_cols])"
   ]
  },
  {
   "cell_type": "markdown",
   "metadata": {},
   "source": [
    "About boxcox : \n",
    "The statisticians George Box and David Cox developed a procedure to identify an appropriate exponent (Lambda = l) to use to transform data into a “normal shape.” The Lambda value indicates the power to which all data should be raised. In order to do this, the Box-Cox power transformation searches from Lambda = -5 to Lamba = +5 until the best value is found. \n",
    "\n",
    "The Box-Cox power transformation is not a guarantee for normality. This is because it actually does not really check for normality; the method checks for the smallest standard deviation. The assumption is that among all transformations with Lambda values between -5 and +5, transformed data has the highest likelihood – but not a guarantee – to be normally distributed when standard deviation is the smallest. Therefore, it is absolutely necessary to always check the transformed data for normality using a probability plot.\n",
    "\n",
    "Additionally, the Box-Cox Power transformation only works if all the data is positive and greater than 0. This, however, can usually be achieved easily by adding a constant (c) to all data such that it all becomes positive before it is transformed. The transformation equation is then (see boxcox implementation above):\n",
    "\n",
    " Y’ = (Y+C)l\n",
    " \n",
    "Source: https://www.isixsigma.com/tools-templates/normality/making-data-normal-using-box-cox-power-transformation/"
   ]
  },
  {
   "cell_type": "code",
   "execution_count": 24,
   "metadata": {
    "collapsed": true
   },
   "outputs": [],
   "source": [
    "# replacing the matrix with normalized data. \n",
    "matrix = pd.merge(normalized_vars, matrix)\n",
    "matrix = matrix[['stories_url_domain', 'stories_boxcox', 'dead_boxcox', 'stories_descandants']]"
   ]
  },
  {
   "cell_type": "code",
   "execution_count": 27,
   "metadata": {
    "collapsed": false
   },
   "outputs": [
    {
     "data": {
      "text/plain": [
       "0    78303\n",
       "3    29930\n",
       "2    28156\n",
       "4    27811\n",
       "1    21023\n",
       "Name: cluster, dtype: int64"
      ]
     },
     "execution_count": 27,
     "metadata": {},
     "output_type": "execute_result"
    }
   ],
   "source": [
    "# now lets create the clusters. I arbitrarily choose 5. \n",
    "\n",
    "cluster = KMeans(n_clusters=5)\n",
    "matrix['cluster'] = cluster.fit_predict(matrix[matrix.columns[1:]])\n",
    "matrix.cluster.value_counts()"
   ]
  },
  {
   "cell_type": "code",
   "execution_count": 29,
   "metadata": {
    "collapsed": true
   },
   "outputs": [],
   "source": [
    "# looks like cluster 0 has a high data count but all other clusters seem to be fairly evenly distributed. \n",
    "# A cool plotting trick for multi dimentional k means analysis is to use PCA (principal component analysis).\n",
    "# PCA allows us to transform our multi-dim dataset into 2 dim dataset and it becomes easier to plot. \n",
    "from sklearn.decomposition import PCA"
   ]
  },
  {
   "cell_type": "code",
   "execution_count": 40,
   "metadata": {
    "collapsed": false
   },
   "outputs": [
    {
     "name": "stdout",
     "output_type": "stream",
     "text": [
      "   index stories_url_domain  stories_boxcox  dead_boxcox  cluster         x  \\\n",
      "0      0               None        1.962842     1.914960        3 -2.718135   \n",
      "1      1       blogspot.com        1.962840     1.914960        3 -2.718135   \n",
      "2      2     techcrunch.com        1.962839     1.914958        3 -2.718134   \n",
      "3      3        nytimes.com        1.962839     1.914958        3 -2.718133   \n",
      "4      4        youtube.com        1.962837     1.914960        3 -2.718133   \n",
      "\n",
      "          y  \n",
      "0 -0.442126  \n",
      "1 -0.442127  \n",
      "2 -0.442125  \n",
      "3 -0.442125  \n",
      "4 -0.442129  \n"
     ]
    }
   ],
   "source": [
    "x_cols = matrix.columns[1:]\n",
    "pca = PCA(n_components=2)\n",
    "matrix['x'] = pca.fit_transform(matrix[x_cols])[:,0]\n",
    "matrix['y'] = pca.fit_transform(matrix[x_cols])[:,1]\n",
    "matrix = matrix.reset_index()\n",
    "\n",
    "print matrix.head()"
   ]
  },
  {
   "cell_type": "code",
   "execution_count": 56,
   "metadata": {
    "collapsed": false
   },
   "outputs": [
    {
     "data": {
      "image/png": "[encoded data removed]"
     },
     "metadata": {},
     "output_type": "display_data"
    }
   ],
   "source": [
    "%matplotlib inline\n",
    "import numpy as np\n",
    "import matplotlib.pyplot as plt\n",
    "\n",
    "x = matrix['x']\n",
    "y = matrix['y']\n",
    "colors = matrix['cluster']\n",
    "area = 15\n",
    "\n",
    "plt.scatter(x, y, s=area, c=colors, alpha=0.5)\n",
    "plt.show()"
   ]
  },
  {
   "cell_type": "code",
   "execution_count": 58,
   "metadata": {
    "collapsed": false
   },
   "outputs": [
    {
     "name": "stdout",
     "output_type": "stream",
     "text": [
      "   stories_count  stories_dead  stories_descandants stories_url_domain  index  \\\n",
      "0         328671         53706              1741015               None      0   \n",
      "1          41722         17138               124154       blogspot.com      1   \n",
      "2          30923          1151               189618     techcrunch.com      2   \n",
      "3          28538          1109               224359        nytimes.com      3   \n",
      "4          17866          4982                11316        youtube.com      4   \n",
      "\n",
      "   stories_boxcox  dead_boxcox  cluster         x         y  \n",
      "0        1.962842     1.914960        3 -2.718135 -0.442126  \n",
      "1        1.962840     1.914960        3 -2.718135 -0.442127  \n",
      "2        1.962839     1.914958        3 -2.718134 -0.442125  \n",
      "3        1.962839     1.914958        3 -2.718133 -0.442125  \n",
      "4        1.962837     1.914960        3 -2.718133 -0.442129  \n"
     ]
    }
   ],
   "source": [
    "# Digging deeper into the clusters. I want to see how the clusters are mapped out against variables. \n",
    "\n",
    "hn_sampled_with_clusters = pd.merge(hn_sampled1_df, matrix)\n",
    "print hn_sampled_with_clusters.head()"
   ]
  },
  {
   "cell_type": "code",
   "execution_count": 63,
   "metadata": {
    "collapsed": false
   },
   "outputs": [
    {
     "data": {
      "image/png": "[encoded data removed]"
     },
     "metadata": {},
     "output_type": "display_data"
    }
   ],
   "source": [
    "x = hn_sampled_with_clusters['stories_count']\n",
    "y = hn_sampled_with_clusters['stories_dead']\n",
    "colors = hn_sampled_with_clusters['cluster']\n",
    "area = 15\n",
    "\n",
    "plt.scatter(x, y, s=area, c=colors, alpha=0.5)\n",
    "plt.xlim(0, 500)\n",
    "plt.ylim(0, 1000)\n",
    "    \n",
    "plt.show()"
   ]
  },
  {
   "cell_type": "code",
   "execution_count": 65,
   "metadata": {
    "collapsed": false
   },
   "outputs": [
    {
     "data": {
      "text/plain": [
       "<matplotlib.axes._subplots.AxesSubplot at 0x10e0168d0>"
      ]
     },
     "execution_count": 65,
     "metadata": {},
     "output_type": "execute_result"
    },
    {
     "data": {
      "image/png": "[encoded data removed]"
     },
     "metadata": {},
     "output_type": "display_data"
    }
   ],
   "source": [
    "## Clusters visualized. \n",
    "matrix.cluster.value_counts().plot.bar()"
   ]
  },
  {
   "cell_type": "code",
   "execution_count": 74,
   "metadata": {
    "collapsed": false
   },
   "outputs": [
    {
     "data": {
      "text/html": [
       "<div>\n",
       "<table border=\"1\" class=\"dataframe\">\n",
       "  <thead>\n",
       "    <tr style=\"text-align: right;\">\n",
       "      <th></th>\n",
       "      <th>stories_count</th>\n",
       "      <th>stories_dead</th>\n",
       "      <th>stories_descandants</th>\n",
       "      <th>stories_url_domain</th>\n",
       "    </tr>\n",
       "  </thead>\n",
       "  <tbody>\n",
       "    <tr>\n",
       "      <th>1</th>\n",
       "      <td>41722</td>\n",
       "      <td>17138</td>\n",
       "      <td>124154</td>\n",
       "      <td>blogspot.com</td>\n",
       "    </tr>\n",
       "    <tr>\n",
       "      <th>2</th>\n",
       "      <td>30923</td>\n",
       "      <td>1151</td>\n",
       "      <td>189618</td>\n",
       "      <td>techcrunch.com</td>\n",
       "    </tr>\n",
       "    <tr>\n",
       "      <th>3</th>\n",
       "      <td>28538</td>\n",
       "      <td>1109</td>\n",
       "      <td>224359</td>\n",
       "      <td>nytimes.com</td>\n",
       "    </tr>\n",
       "    <tr>\n",
       "      <th>4</th>\n",
       "      <td>17866</td>\n",
       "      <td>4982</td>\n",
       "      <td>11316</td>\n",
       "      <td>youtube.com</td>\n",
       "    </tr>\n",
       "    <tr>\n",
       "      <th>5</th>\n",
       "      <td>15339</td>\n",
       "      <td>2363</td>\n",
       "      <td>55960</td>\n",
       "      <td>wordpress.com</td>\n",
       "    </tr>\n",
       "    <tr>\n",
       "      <th>6</th>\n",
       "      <td>13731</td>\n",
       "      <td>277</td>\n",
       "      <td>85972</td>\n",
       "      <td>arstechnica.com</td>\n",
       "    </tr>\n",
       "    <tr>\n",
       "      <th>7</th>\n",
       "      <td>12830</td>\n",
       "      <td>361</td>\n",
       "      <td>83899</td>\n",
       "      <td>wired.com</td>\n",
       "    </tr>\n",
       "    <tr>\n",
       "      <th>8</th>\n",
       "      <td>11316</td>\n",
       "      <td>429</td>\n",
       "      <td>65904</td>\n",
       "      <td>bbc.co.uk</td>\n",
       "    </tr>\n",
       "    <tr>\n",
       "      <th>9</th>\n",
       "      <td>10661</td>\n",
       "      <td>361</td>\n",
       "      <td>69353</td>\n",
       "      <td>wsj.com</td>\n",
       "    </tr>\n",
       "    <tr>\n",
       "      <th>10</th>\n",
       "      <td>8893</td>\n",
       "      <td>1116</td>\n",
       "      <td>54896</td>\n",
       "      <td>tumblr.com</td>\n",
       "    </tr>\n",
       "    <tr>\n",
       "      <th>11</th>\n",
       "      <td>7829</td>\n",
       "      <td>387</td>\n",
       "      <td>14425</td>\n",
       "      <td>businessinsider.com</td>\n",
       "    </tr>\n",
       "    <tr>\n",
       "      <th>12</th>\n",
       "      <td>7670</td>\n",
       "      <td>1158</td>\n",
       "      <td>53784</td>\n",
       "      <td>google.com</td>\n",
       "    </tr>\n",
       "    <tr>\n",
       "      <th>13</th>\n",
       "      <td>7449</td>\n",
       "      <td>381</td>\n",
       "      <td>32644</td>\n",
       "      <td>forbes.com</td>\n",
       "    </tr>\n",
       "  </tbody>\n",
       "</table>\n",
       "</div>"
      ]
     },
     "metadata": {},
     "output_type": "execute_result"
    }
   ],
   "source": [
    "# Looks like the model is accurately clustering together all of the sites from maintsream sources. In this case, it's cluster 3.  \n",
    "hn_sampled_with_clusters[hn_sampled_with_clusters.cluster == 3].sort_values(['stories_count'], ascending=False).iloc[1:14, 0:4]"
   ]
  },
  {
   "cell_type": "code",
   "execution_count": 75,
   "metadata": {
    "collapsed": false
   },
   "outputs": [
    {
     "data": {
      "text/html": [
       "<div>\n",
       "<table border=\"1\" class=\"dataframe\">\n",
       "  <thead>\n",
       "    <tr style=\"text-align: right;\">\n",
       "      <th></th>\n",
       "      <th>stories_count</th>\n",
       "      <th>stories_dead</th>\n",
       "      <th>stories_descandants</th>\n",
       "      <th>stories_url_domain</th>\n",
       "    </tr>\n",
       "  </thead>\n",
       "  <tbody>\n",
       "    <tr>\n",
       "      <th>149743</th>\n",
       "      <td>1</td>\n",
       "      <td>1</td>\n",
       "      <td>-1</td>\n",
       "      <td>huntingforgeorge.com</td>\n",
       "    </tr>\n",
       "    <tr>\n",
       "      <th>149755</th>\n",
       "      <td>1</td>\n",
       "      <td>1</td>\n",
       "      <td>-1</td>\n",
       "      <td>jlbghealth.com</td>\n",
       "    </tr>\n",
       "    <tr>\n",
       "      <th>149754</th>\n",
       "      <td>1</td>\n",
       "      <td>1</td>\n",
       "      <td>-1</td>\n",
       "      <td>vegaschill.com</td>\n",
       "    </tr>\n",
       "    <tr>\n",
       "      <th>149753</th>\n",
       "      <td>1</td>\n",
       "      <td>1</td>\n",
       "      <td>-1</td>\n",
       "      <td>rongyt.com</td>\n",
       "    </tr>\n",
       "    <tr>\n",
       "      <th>149752</th>\n",
       "      <td>1</td>\n",
       "      <td>1</td>\n",
       "      <td>-1</td>\n",
       "      <td>london2012olympics.com.au</td>\n",
       "    </tr>\n",
       "    <tr>\n",
       "      <th>149751</th>\n",
       "      <td>1</td>\n",
       "      <td>1</td>\n",
       "      <td>-1</td>\n",
       "      <td>sehat-bebaspenyakit.com</td>\n",
       "    </tr>\n",
       "    <tr>\n",
       "      <th>149750</th>\n",
       "      <td>1</td>\n",
       "      <td>1</td>\n",
       "      <td>-1</td>\n",
       "      <td>tkmoneygroup.com</td>\n",
       "    </tr>\n",
       "    <tr>\n",
       "      <th>149749</th>\n",
       "      <td>1</td>\n",
       "      <td>1</td>\n",
       "      <td>-1</td>\n",
       "      <td>healthyweightlossways.com</td>\n",
       "    </tr>\n",
       "    <tr>\n",
       "      <th>149748</th>\n",
       "      <td>1</td>\n",
       "      <td>1</td>\n",
       "      <td>-1</td>\n",
       "      <td>blue.gg</td>\n",
       "    </tr>\n",
       "    <tr>\n",
       "      <th>149747</th>\n",
       "      <td>1</td>\n",
       "      <td>1</td>\n",
       "      <td>-1</td>\n",
       "      <td>docangeles.com</td>\n",
       "    </tr>\n",
       "    <tr>\n",
       "      <th>149746</th>\n",
       "      <td>1</td>\n",
       "      <td>1</td>\n",
       "      <td>-1</td>\n",
       "      <td>coachonlineoutlet.com</td>\n",
       "    </tr>\n",
       "    <tr>\n",
       "      <th>149745</th>\n",
       "      <td>1</td>\n",
       "      <td>1</td>\n",
       "      <td>-1</td>\n",
       "      <td>homefashionsu-store.com</td>\n",
       "    </tr>\n",
       "    <tr>\n",
       "      <th>149742</th>\n",
       "      <td>1</td>\n",
       "      <td>1</td>\n",
       "      <td>NaN</td>\n",
       "      <td>codingshuttle.com</td>\n",
       "    </tr>\n",
       "  </tbody>\n",
       "</table>\n",
       "</div>"
      ]
     },
     "metadata": {},
     "output_type": "execute_result"
    }
   ],
   "source": [
    "# Looks like all the spam sites are clustered together as well as cluster #2\n",
    "hn_sampled_with_clusters[hn_sampled_with_clusters.cluster == 2].sort_values(['stories_count'], ascending=False).iloc[1:14, 0:4]"
   ]
  }
 ],
 "metadata": {
  "kernelspec": {
   "display_name": "Python 2",
   "language": "python",
   "name": "python2"
  },
  "language_info": {
   "codemirror_mode": {
    "name": "ipython",
    "version": 2
   },
   "file_extension": ".py",
   "mimetype": "text/x-python",
   "name": "python",
   "nbconvert_exporter": "python",
   "pygments_lexer": "ipython2",
   "version": "2.7.10"
  }
 },
 "nbformat": 4,
 "nbformat_minor": 0
}
